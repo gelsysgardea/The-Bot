{
 "cells": [
  {
   "cell_type": "markdown",
   "id": "2fb5bcc986dfff07",
   "metadata": {},
   "source": [
    "# Instrucciones de Actualización para Binance RedPacket Bot\n",
    "## Pasos a seguir"
   ]
  },
  {
   "cell_type": "markdown",
   "id": "71992511f37fe9b6",
   "metadata": {},
   "source": [
    "## 1. Archivos a Eliminar"
   ]
  },
  {
   "cell_type": "code",
   "execution_count": null,
   "id": "cb7d15c0dc5641b4",
   "metadata": {
    "jupyter": {
     "is_executing": true
    }
   },
   "outputs": [],
   "source": []
  },
  {
   "cell_type": "markdown",
   "id": "138dfe7be97ca3bc",
   "metadata": {},
   "source": [
    "## 2. Nueva Estructura de Directorios"
   ]
  },
  {
   "cell_type": "code",
   "execution_count": null,
   "id": "9c0881e7e6903d95",
   "metadata": {},
   "outputs": [],
   "source": []
  },
  {
   "cell_type": "markdown",
   "id": "c7a948ab953a951d",
   "metadata": {},
   "source": [
    "## 3. Archivos Actualizados\n",
    "\n",
    "### core/config.py"
   ]
  },
  {
   "cell_type": "code",
   "execution_count": null,
   "id": "b0ba74150210ddae",
   "metadata": {},
   "outputs": [],
   "source": [
    "import os\n",
    "from dataclasses import dataclass, field\n",
    "from typing import Dict, Any, List\n",
    "from dotenv import load_dotenv\n",
    "\n",
    "load_dotenv()\n",
    "\n",
    "@dataclass\n",
    "class Config:\n",
    "    # Telegram Configuration\n",
    "    CLIENT_NAME: str = \"BinanceUser\"\n",
    "    API_ID: int = int(os.getenv(\"API_ID\", \"0\"))\n",
    "    API_HASH: str = os.getenv(\"API_HASH\", \"\")\n",
    "\n",
    "    # Chats to monitor\n",
    "    CHATS: List[int] = field(default_factory=lambda: [\n",
    "        -1001515379979,  # Binance Crypto Box Code\n",
    "        -1001813092752,  # Binance Red packet crypto box\n",
    "        -1001610472708,  # Whale Box\n",
    "    ])\n",
    "\n",
    "    # Chats requiring special token extraction\n",
    "    SPECIAL_CHATS: List[int] = field(default_factory=lambda: [-1001610472708])\n",
    "\n",
    "    # Timeouts and delays\n",
    "    REQUEST_TIMEOUT: float = 30.0\n",
    "    MIN_DELAY: int = 1\n",
    "    MAX_DELAY: int = 5\n",
    "    CAPTCHA_WAIT_TIME: int = 3600\n",
    "\n",
    "    # Headers for Binance API\n",
    "    HEADERS: Dict[str, str] = field(default_factory=lambda: {\n",
    "        \"Accept\": \"*/*\",\n",
    "        \"Accept-Encoding\": \"gzip, deflate, br\",\n",
    "        \"Accept-Language\": \"en-US,en;q=0.9\",\n",
    "        \"User-Agent\": \"Mozilla/5.0 (Windows NT 10.0; Win64; x64) AppleWebKit/537.36 (KHTML, like Gecko)\",\n",
    "        \"Content-Type\": \"application/json\",\n",
    "    })\n",
    "\n",
    "    @classmethod\n",
    "    def load(cls) -> \"Config\":\n",
    "        load_dotenv()\n",
    "        return cls()\n",
    "\n",
    "    def validate(self) -> bool:\n",
    "        if not self.API_ID or not self.API_HASH:\n",
    "            print(\"❌ Error: API_ID y API_HASH son requeridos\")\n",
    "            return False\n",
    "        if not self.HEADERS:\n",
    "            print(\"❌ Error: Headers de Binance son requeridos\")\n",
    "            return False\n",
    "        return True"
   ]
  },
  {
   "cell_type": "markdown",
   "id": "a2f7910182555e3e",
   "metadata": {},
   "source": [
    "### lib/binance_client.py"
   ]
  }
 ],
 "metadata": {
  "kernelspec": {
   "display_name": "venv",
   "language": "python",
   "name": "python3"
  },
  "language_info": {
   "codemirror_mode": {
    "name": "ipython",
    "version": 2
   },
   "file_extension": ".py",
   "mimetype": "text/x-python",
   "name": "python",
   "nbconvert_exporter": "python",
   "pygments_lexer": "ipython2",
   "version": "3.14.0"
  }
 },
 "nbformat": 4,
 "nbformat_minor": 5
}
