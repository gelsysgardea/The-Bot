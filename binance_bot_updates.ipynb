{
 "cells": [
  {
   "cell_type": "markdown",
   "id": "e03fc0aacc3ea198",
   "metadata": {},
   "source": [
    "# Actualizaciones Necesarias para Binance RedPacket Bot\n",
    "## Instrucciones de Actualización\n",
    "\n",
    "Este notebook contiene todas las actualizaciones necesarias para el proyecto Binance RedPacket Bot."
   ]
  },
  {
   "cell_type": "markdown",
   "id": "7bead8a74efa8e72",
   "metadata": {},
   "source": [
    "## 1. Archivos a Eliminar\n",
    "\n",
    "Los siguientes archivos deben ser eliminados del proyecto:"
   ]
  },
  {
   "cell_type": "code",
   "execution_count": null,
   "id": "b2d3dad79be0b3a3",
   "metadata": {},
   "outputs": [],
   "source": [
    "\n",
    "```"
   ]
  },
  {
   "cell_type": "markdown",
   "id": "da9e9d58e75277d8",
   "metadata": {},
   "source": [
    "## 2. Nueva Estructura de Directorios\n",
    "\n",
    "La nueva estructura del proyecto debe ser:"
   ]
  },
  {
   "cell_type": "markdown",
   "id": "6d959b3bf9daed13",
   "metadata": {},
   "source": [
    "## 3. Contenido de los Archivos\n",
    "\n",
    "### core/config.py"
   ]
  },
  {
   "cell_type": "code",
   "execution_count": null,
   "id": "8692eb0c6b038b14",
   "metadata": {},
   "outputs": [],
   "source": [
    "import os\n",
    "from dataclasses import dataclass, field\n",
    "from typing import Dict, Any, List\n",
    "from dotenv import load_dotenv\n",
    "\n",
    "load_dotenv()\n",
    "\n",
    "@dataclass\n",
    "class Config:\n",
    "    CLIENT_NAME: str = \"BinanceUser\"\n",
    "    API_ID: int = int(os.getenv(\"API_ID\", \"0\"))\n",
    "    API_HASH: str = os.getenv(\"API_HASH\", \"\")\n",
    "\n",
    "    CHATS: List[int] = field(default_factory=lambda: [\n",
    "        -1001515379979,\n",
    "        -1001813092752,\n",
    "        -1001610472708,\n",
    "    ])\n",
    "\n",
    "    SPECIAL_CHATS: List[int] = field(default_factory=lambda: [-1001610472708])\n",
    "\n",
    "    REQUEST_TIMEOUT: float = 30.0\n",
    "    MIN_DELAY: int = 1\n",
    "    MAX_DELAY: int = 5\n",
    "    CAPTCHA_WAIT_TIME: int = 3600\n",
    "\n",
    "    HEADERS: Dict[str, str] = field(default_factory=lambda: {\n",
    "        'Accept': '*/*',\n",
    "        'Accept-Encoding': 'gzip, deflate, br',\n",
    "        'Accept-Language': 'en-US,en;q=0.9',\n",
    "        'User-Agent': 'Mozilla/5.0 (Windows NT 10.0; Win64; x64) AppleWebKit/537.36 (KHTML, like Gecko)',\n",
    "        'Content-Type': 'application/json',\n",
    "    })\n",
    "\n",
    "    @classmethod\n",
    "    def load(cls) -> 'Config':\n",
    "        load_dotenv()\n",
    "        return cls()\n",
    "\n",
    "    def validate(self) -> bool:\n",
    "        if not self.API_ID or not self.API_HASH:\n",
    "            print(\"❌ Error: API_ID y API_HASH son requeridos\")\n",
    "            return False\n",
    "        if not self.HEADERS:\n",
    "            print(\"❌ Error: Headers de Binance son requeridos\")\n",
    "            return False\n",
    "        return True"
   ]
  },
  {
   "cell_type": "markdown",
   "id": "f78e3726f2f02a71",
   "metadata": {},
   "source": [
    "### lib/binance_"
   ]
  },
  {
   "cell_type": "code",
   "execution_count": null,
   "id": "38886edd84ab7225",
   "metadata": {},
   "outputs": [],
   "source": [
    "import httpx\n",
    "import asyncio\n",
    "import json\n",
    "import random\n",
    "from typing import Dict, Any, Optional\n",
    "from core.config import Config\n",
    "import"
   ]
  }
 ],
 "metadata": {
  "kernelspec": {
   "display_name": "venv",
   "language": "python",
   "name": "python3"
  },
  "language_info": {
   "codemirror_mode": {
    "name": "ipython",
    "version": 2
   },
   "file_extension": ".py",
   "mimetype": "text/x-python",
   "name": "python",
   "nbconvert_exporter": "python",
   "pygments_lexer": "ipython2",
   "version": "3.14.0"
  }
 },
 "nbformat": 4,
 "nbformat_minor": 5
}
